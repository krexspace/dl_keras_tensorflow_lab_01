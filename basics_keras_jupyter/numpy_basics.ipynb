{
 "cells": [
  {
   "cell_type": "code",
   "execution_count": 1,
   "metadata": {},
   "outputs": [],
   "source": [
    "import numpy as np"
   ]
  },
  {
   "cell_type": "markdown",
   "metadata": {},
   "source": [
    "## NumPy User Guide\n",
    "\n",
    "Tip: Step through each and every cell for memorization.    \n",
    "Good single page complete reference.\n",
    "\n",
    "https://docs.scipy.org/doc/numpy/user/index.html"
   ]
  },
  {
   "cell_type": "code",
   "execution_count": 2,
   "metadata": {},
   "outputs": [
    {
     "name": "stdout",
     "output_type": "stream",
     "text": [
      "[[ 0  1  2  3  4]\n",
      " [ 5  6  7  8  9]\n",
      " [10 11 12 13 14]]\n",
      "(3, 5)\n",
      "2\n",
      "int32\n",
      "4\n",
      "15\n",
      "<class 'numpy.ndarray'>\n",
      "[6 7 8]\n",
      "<class 'numpy.ndarray'>\n"
     ]
    }
   ],
   "source": [
    "a = np.arange(15).reshape(3, 5)\n",
    "print(a)\n",
    "# Shape\n",
    "print(a.shape)\n",
    "# Num dimensions\n",
    "print(a.ndim)\n",
    "# Data type name\n",
    "print(a.dtype.name)\n",
    "# Item size\n",
    "print(a.itemsize)\n",
    "# Total size\n",
    "print(a.size)\n",
    "\n",
    "print(type(a))\n",
    "\n",
    "b = np.array([6, 7, 8])\n",
    "print(b)\n",
    "\n",
    "print(type(b))"
   ]
  },
  {
   "cell_type": "code",
   "execution_count": null,
   "metadata": {},
   "outputs": [],
   "source": [
    "# Array Creation\n",
    "a = np.array([2,3,4])\n",
    "print(a)\n",
    "\n",
    "print(a.dtype)\n",
    "\n",
    "b = np.array([1.2, 3.5, 5.1])\n",
    "print(b.dtype)"
   ]
  },
  {
   "cell_type": "markdown",
   "metadata": {},
   "source": [
    "### Array Creation\n",
    "a = np.array(1,2,3,4)    # WRONG  \n",
    "a = np.array([1,2,3,4])  # RIGHT\n",
    "\n",
    "The type of the array can also be explicitly specified at creation time:"
   ]
  },
  {
   "cell_type": "code",
   "execution_count": null,
   "metadata": {},
   "outputs": [],
   "source": [
    "c = np.array( [ [1,2], [3,4] ], dtype=complex )\n",
    "print(c)\n",
    "c = np.array( [ [1,2], [3,4] ], dtype=np.int16 )\n",
    "print(c)\n",
    "c = np.array( [ [1,2], [3,4] ], dtype=np.complex128)\n",
    "print(c)"
   ]
  },
  {
   "cell_type": "markdown",
   "metadata": {},
   "source": [
    "### Datatypes\n",
    "Full book (classic good ref):  https://jakevdp.github.io/PythonDataScienceHandbook/  \n",
    "https://jakevdp.github.io/PythonDataScienceHandbook/02.01-understanding-data-types.html  \n",
    "\n",
    "<u>Data type\tDescription</u>  \n",
    "bool_\tBoolean (True or False) stored as a byte  \n",
    "int_\tDefault integer type (same as C long; normally either int64 or int32)  \n",
    "intc\tIdentical to C int (normally int32 or int64)  \n",
    "intp\tInteger used for indexing (same as C ssize_t; normally either int32 or int64)  \n",
    "int8\tByte (-128 to 127)  \n",
    "int16\tInteger (-32768 to 32767)  \n",
    "int32\tInteger (-2147483648 to 2147483647)  \n",
    "int64\tInteger (-9223372036854775808 to 9223372036854775807)  \n",
    "uint8\tUnsigned integer (0 to 255)  \n",
    "uint16\tUnsigned integer (0 to 65535)  \n",
    "uint32\tUnsigned integer (0 to 4294967295)  \n",
    "uint64\tUnsigned integer (0 to 18446744073709551615)  \n",
    "float_\tShorthand for float64.  \n",
    "float16\tHalf precision float: sign bit, 5 bits exponent, 10 bits mantissa  \n",
    "float32\tSingle precision float: sign bit, 8 bits exponent, 23 bits mantissa  \n",
    "float64\tDouble precision float: sign bit, 11 bits exponent, 52 bits mantissa  \n",
    "complex_\tShorthand for complex128.  \n",
    "complex64\tComplex number, represented by two 32-bit floats  \n",
    "complex128\tComplex number, represented by two 64-bit floats  "
   ]
  },
  {
   "cell_type": "code",
   "execution_count": null,
   "metadata": {},
   "outputs": [],
   "source": [
    "# Quick Arrays with Initial PLaceholder content\n",
    "\n",
    "np.zeros( (3,4) )\n",
    "\n",
    "np.ones( (2,3,4), dtype=np.int16 )                # dtype can also be specified\n",
    "\n",
    "np.empty( (2,3) )                                 # uninitialized, output may vary"
   ]
  },
  {
   "cell_type": "code",
   "execution_count": null,
   "metadata": {},
   "outputs": [],
   "source": [
    "# np.arange (start, end , step)\n",
    "np.arange( 10, 30, 5 )\n",
    "\n",
    "np.arange( 0, 2, 0.3 )                 # it accepts float arguments\n",
    "\n",
    "np.arange(0, 15, 0.4)"
   ]
  },
  {
   "cell_type": "code",
   "execution_count": null,
   "metadata": {},
   "outputs": [],
   "source": [
    "# np.linspace(start, end, number_of_elements)\n",
    "\n",
    "from numpy import pi\n",
    "np.linspace( 0, 2, 9 )                 # 9 numbers from 0 to 2\n",
    "\n",
    "x = np.linspace( 0, 2*pi, 50 )        # useful to evaluate function at lots of points\n",
    "f = np.sin(x) # Use of function on entire array\n",
    "print(f)"
   ]
  },
  {
   "cell_type": "markdown",
   "metadata": {},
   "source": [
    "## Basic Operations"
   ]
  },
  {
   "cell_type": "code",
   "execution_count": null,
   "metadata": {},
   "outputs": [],
   "source": [
    "a = np.array( [20,30,40,50] )\n",
    "b = np.arange( 4 )\n",
    "print(b)\n",
    "\n",
    "c = a-b\n",
    "print(c)\n",
    "\n",
    "print(b**2)\n",
    "\n",
    "print(10*np.sin(a))\n",
    "\n",
    "print(a<35)"
   ]
  },
  {
   "cell_type": "code",
   "execution_count": null,
   "metadata": {},
   "outputs": [],
   "source": [
    "# Matrix operations\n",
    "A = np.array( [[1,1],\n",
    "            [0,1]] )\n",
    "B = np.array( [[2,0],\n",
    "            [3,4]] )\n",
    "A * B                       # elementwise product (Note this is not dot prod)\n",
    "\n",
    "\n",
    "A @ B                       # matrix product\n",
    "\n",
    "\n",
    "A.dot(B)                    # another matrix product"
   ]
  },
  {
   "cell_type": "markdown",
   "metadata": {},
   "source": [
    "Some operations, such as += and *=, act in place to modify an existing array rather than create a new one."
   ]
  },
  {
   "cell_type": "code",
   "execution_count": null,
   "metadata": {},
   "outputs": [],
   "source": [
    "a = np.ones((2,3), dtype=int)\n",
    "b = np.random.random((2,3))\n",
    "a *= 3\n",
    "a\n",
    "\n",
    "b += a\n",
    "b\n",
    "\n",
    "#a += b  # error: b is not automatically converted to integer type"
   ]
  },
  {
   "cell_type": "code",
   "execution_count": null,
   "metadata": {},
   "outputs": [],
   "source": [
    "# Sum, min, max\n",
    "\n",
    "a = np.random.random((2,3))\n",
    "a\n",
    "\n",
    "a.sum()\n",
    "\n",
    "a.min()\n",
    "\n",
    "a.max()\n",
    "\n",
    "# With axis\n",
    "\n",
    "b = np.arange(12).reshape(3,4)\n",
    "b\n",
    "\n",
    "b.sum(axis=0)                            # sum of each column\n",
    "\n",
    "\n",
    "b.min(axis=1)                            # min of each row\n",
    "\n",
    "\n",
    "b.cumsum(axis=1)                         # cumulative sum along each row"
   ]
  },
  {
   "cell_type": "code",
   "execution_count": 3,
   "metadata": {},
   "outputs": [
    {
     "data": {
      "text/plain": [
       "array([2., 0., 6.])"
      ]
     },
     "execution_count": 3,
     "metadata": {},
     "output_type": "execute_result"
    }
   ],
   "source": [
    "# Universal functions\n",
    "B = np.arange(3)\n",
    "B\n",
    "\n",
    "np.exp(B)\n",
    "\n",
    "np.sqrt(B)\n",
    "\n",
    "C = np.array([2., -1., 4.])\n",
    "np.add(B, C)\n"
   ]
  },
  {
   "cell_type": "markdown",
   "metadata": {},
   "source": [
    "See also:  \n",
    "all, any, apply_along_axis, argmax, argmin, argsort, average, bincount, ceil, clip, conj, corrcoef, cov, cross, cumprod, cumsum, diff, dot, floor, inner, inv, lexsort, max, maximum, mean, median, min, minimum, nonzero, outer, prod, re, round, sort, std, sum, trace, transpose, var, vdot, vectorize, where"
   ]
  },
  {
   "cell_type": "markdown",
   "metadata": {},
   "source": [
    "## Indexing, slicing, iterating\n",
    "\n",
    "Slicing an array returns a view of it"
   ]
  },
  {
   "cell_type": "code",
   "execution_count": 7,
   "metadata": {},
   "outputs": [
    {
     "name": "stdout",
     "output_type": "stream",
     "text": [
      "[  0   1   8  27  64 125 216 343 512 729]\n"
     ]
    }
   ],
   "source": [
    "a = np.arange(10)**3\n",
    "print(a)"
   ]
  },
  {
   "cell_type": "code",
   "execution_count": 8,
   "metadata": {},
   "outputs": [
    {
     "data": {
      "text/plain": [
       "8"
      ]
     },
     "execution_count": 8,
     "metadata": {},
     "output_type": "execute_result"
    }
   ],
   "source": [
    "a[2]"
   ]
  },
  {
   "cell_type": "code",
   "execution_count": 9,
   "metadata": {},
   "outputs": [
    {
     "data": {
      "text/plain": [
       "array([ 8, 27, 64], dtype=int32)"
      ]
     },
     "execution_count": 9,
     "metadata": {},
     "output_type": "execute_result"
    }
   ],
   "source": [
    "a[2:5]"
   ]
  },
  {
   "cell_type": "code",
   "execution_count": 14,
   "metadata": {},
   "outputs": [
    {
     "name": "stdout",
     "output_type": "stream",
     "text": [
      "[-1000   512 -1000   216 -1000 -1000    27 -1000     1 -1000]\n",
      "[-1000     1 -1000    27 -1000 -1000   216 -1000   512 -1000]\n",
      "1000000\n",
      "1\n",
      "1000000\n",
      "729\n",
      "1000000\n",
      "1000000\n",
      "46656\n",
      "1000000\n",
      "262144\n",
      "1000000\n"
     ]
    }
   ],
   "source": [
    "a[:6:2] = -1000    # equivalent to a[0:6:2] = -1000; from start to position 6, exclusive, set every 2nd element to -1000\n",
    "print(a)\n",
    "\n",
    "a = a[ : :-1]                                 # reversed a\n",
    "print(a)\n",
    "for i in a:\n",
    "    print(i**2)"
   ]
  },
  {
   "cell_type": "markdown",
   "metadata": {},
   "source": [
    "## np.fromFunction Usage"
   ]
  },
  {
   "cell_type": "code",
   "execution_count": 15,
   "metadata": {},
   "outputs": [
    {
     "data": {
      "text/plain": [
       "array([[ 0,  1,  2,  3],\n",
       "       [10, 11, 12, 13],\n",
       "       [20, 21, 22, 23],\n",
       "       [30, 31, 32, 33],\n",
       "       [40, 41, 42, 43]])"
      ]
     },
     "execution_count": 15,
     "metadata": {},
     "output_type": "execute_result"
    }
   ],
   "source": [
    "def f(x,y):\n",
    "    return 10*x+y\n",
    "\n",
    "b = np.fromfunction(f,(5,4),dtype=int)\n",
    "b"
   ]
  },
  {
   "cell_type": "markdown",
   "metadata": {},
   "source": [
    "<b>Multidimensional</b> arrays can have one index per axis. These indices are given in a tuple separated by commas:"
   ]
  },
  {
   "cell_type": "code",
   "execution_count": 16,
   "metadata": {},
   "outputs": [
    {
     "data": {
      "text/plain": [
       "array([[10, 11, 12, 13],\n",
       "       [20, 21, 22, 23]])"
      ]
     },
     "execution_count": 16,
     "metadata": {},
     "output_type": "execute_result"
    }
   ],
   "source": [
    "# Indexing and slicing multidimentional arrays\n",
    "\n",
    "b[2,3]\n",
    "\n",
    "b[0:5, 1]                       # each row in the second column of b\n",
    "\n",
    "b[ : ,1]                        # equivalent to the previous example\n",
    "\n",
    "b[1:3, : ]                      # each column in the second and third row of b\n"
   ]
  },
  {
   "cell_type": "code",
   "execution_count": 18,
   "metadata": {},
   "outputs": [
    {
     "data": {
      "text/plain": [
       "array([[[ 0,  1,  2,  3],\n",
       "        [ 4,  5,  6,  7],\n",
       "        [ 8,  9, 10, 11],\n",
       "        [12, 13, 14, 15],\n",
       "        [16, 17, 18, 19]],\n",
       "\n",
       "       [[20, 21, 22, 23],\n",
       "        [24, 25, 26, 27],\n",
       "        [28, 29, 30, 31],\n",
       "        [32, 33, 34, 35],\n",
       "        [36, 37, 38, 39]],\n",
       "\n",
       "       [[40, 41, 42, 43],\n",
       "        [44, 45, 46, 47],\n",
       "        [48, 49, 50, 51],\n",
       "        [52, 53, 54, 55],\n",
       "        [56, 57, 58, 59]],\n",
       "\n",
       "       [[60, 61, 62, 63],\n",
       "        [64, 65, 66, 67],\n",
       "        [68, 69, 70, 71],\n",
       "        [72, 73, 74, 75],\n",
       "        [76, 77, 78, 79]],\n",
       "\n",
       "       [[80, 81, 82, 83],\n",
       "        [84, 85, 86, 87],\n",
       "        [88, 89, 90, 91],\n",
       "        [92, 93, 94, 95],\n",
       "        [96, 97, 98, 99]]])"
      ]
     },
     "execution_count": 18,
     "metadata": {},
     "output_type": "execute_result"
    }
   ],
   "source": [
    "q = np.arange(0,100).reshape(5,5,4)\n",
    "q"
   ]
  },
  {
   "cell_type": "code",
   "execution_count": 27,
   "metadata": {},
   "outputs": [
    {
     "data": {
      "text/plain": [
       "array([[[20, 22],\n",
       "        [24, 26],\n",
       "        [28, 30],\n",
       "        [32, 34],\n",
       "        [36, 38]],\n",
       "\n",
       "       [[40, 42],\n",
       "        [44, 46],\n",
       "        [48, 50],\n",
       "        [52, 54],\n",
       "        [56, 58]]])"
      ]
     },
     "execution_count": 27,
     "metadata": {},
     "output_type": "execute_result"
    }
   ],
   "source": [
    "# Slicing multidim arrays\n",
    "q[1:3,:,2]\n",
    "q[1:3,:,::2]"
   ]
  },
  {
   "cell_type": "markdown",
   "metadata": {},
   "source": [
    "## Stacking together different arrays\n",
    "Several arrays can be stacked together along different axes:"
   ]
  },
  {
   "cell_type": "code",
   "execution_count": 28,
   "metadata": {},
   "outputs": [
    {
     "data": {
      "text/plain": [
       "array([[5., 0., 9., 3.],\n",
       "       [3., 6., 0., 3.]])"
      ]
     },
     "execution_count": 28,
     "metadata": {},
     "output_type": "execute_result"
    }
   ],
   "source": [
    "a = np.floor(10*np.random.random((2,2)))\n",
    "a\n",
    "\n",
    "\n",
    "b = np.floor(10*np.random.random((2,2)))\n",
    "b\n",
    "\n",
    "np.vstack((a,b))\n",
    "\n",
    "np.hstack((a,b))"
   ]
  },
  {
   "cell_type": "code",
   "execution_count": 29,
   "metadata": {},
   "outputs": [],
   "source": [
    "## Copies and Views"
   ]
  },
  {
   "cell_type": "code",
   "execution_count": 31,
   "metadata": {},
   "outputs": [
    {
     "name": "stdout",
     "output_type": "stream",
     "text": [
      "True\n"
     ]
    },
    {
     "data": {
      "text/plain": [
       "(3, 4)"
      ]
     },
     "execution_count": 31,
     "metadata": {},
     "output_type": "execute_result"
    }
   ],
   "source": [
    "# Note: no copy during direct assignment\n",
    "\n",
    "a = np.arange(12)\n",
    "b = a            # no new object is created\n",
    "print(b is a)           # a and b are two names for the same ndarray object\n",
    "\n",
    "b.shape = 3,4    # changes the shape of a\n",
    "a.shape"
   ]
  },
  {
   "cell_type": "code",
   "execution_count": 32,
   "metadata": {},
   "outputs": [
    {
     "data": {
      "text/plain": [
       "array([[   0,    1,    2,    3],\n",
       "       [1234,    5,    6,    7],\n",
       "       [   8,    9,   10,   11]])"
      ]
     },
     "execution_count": 32,
     "metadata": {},
     "output_type": "execute_result"
    }
   ],
   "source": [
    "# View or Shallow Copy\n",
    "\n",
    "c = a.view()\n",
    "c is a\n",
    "\n",
    "c.base is a                        # c is a view of the data owned by a\n",
    "\n",
    "c.flags.owndata\n",
    "\n",
    "\n",
    "c.shape = 2,6                      # a's shape doesn't change\n",
    "a.shape\n",
    "\n",
    "c[0,4] = 1234                      # a's data changes\n",
    "a"
   ]
  },
  {
   "cell_type": "markdown",
   "metadata": {},
   "source": [
    "Slicing an array returns a view of it\n",
    "\n",
    "### Deep Copy¶"
   ]
  },
  {
   "cell_type": "code",
   "execution_count": null,
   "metadata": {},
   "outputs": [],
   "source": [
    "d = a.copy()                          # a new array object with new data is created\n",
    "d is a\n",
    "\n",
    "d.base is a                           # d doesn't share anything with a\n",
    "\n",
    "d[0,0] = 9999\n",
    "a"
   ]
  },
  {
   "cell_type": "markdown",
   "metadata": {},
   "source": [
    "## Functions and Methods Overview  \n",
    "Here is a list of some useful NumPy functions and methods names ordered in categories. See Routines for the full list.  \n",
    "\n",
    "### Array Creation\n",
    "arange, array, copy, empty, empty_like, eye, fromfile, fromfunction, identity, linspace, logspace, mgrid, ogrid, ones, ones_like, r, zeros, zeros_like\n",
    "### Conversions\n",
    "ndarray.astype, atleast_1d, atleast_2d, atleast_3d, mat\n",
    "### Manipulations\n",
    "array_split, column_stack, concatenate, diagonal, dsplit, dstack, hsplit, hstack, ndarray.item, newaxis, ravel, repeat, reshape, resize, squeeze, swapaxes, take, transpose, vsplit, vstack\n",
    "### Questions\n",
    "all, any, nonzero, where\n",
    "### Ordering\n",
    "argmax, argmin, argsort, max, min, ptp, searchsorted, sort\n",
    "### Operations\n",
    "choose, compress, cumprod, cumsum, inner, ndarray.fill, imag, prod, put, putmask, real, sum\n",
    "### Basic Statistics\n",
    "cov, mean, std, var\n",
    "### Basic Linear Algebra\n",
    "cross, dot, outer, linalg.svd, vdot"
   ]
  },
  {
   "cell_type": "markdown",
   "metadata": {},
   "source": [
    "## Random\n",
    "\n",
    "Main: https://docs.scipy.org/doc/numpy-1.15.0/reference/routines.random.html\n",
    "\n",
    "rand(d0, d1, …, dn)\tRandom values in a given shape.  \n",
    "randn(d0, d1, …, dn)\tReturn a sample (or samples) from the “standard normal” distribution.  \n",
    "randint(low[, high, size, dtype])\tReturn random integers from low (inclusive) to high (exclusive).  \n",
    "random_integers(low[, high, size])\tRandom integers of type np.int between low and high, inclusive.  \n",
    "random_sample([size])\tReturn random floats in the half-open interval [0.0, 1.0).  \n",
    "random([size])\tReturn random floats in the half-open interval [0.0, 1.0).  \n",
    "ranf([size])\tReturn random floats in the half-open interval [0.0, 1.0).  \n",
    "sample([size])\tReturn random floats in the half-open interval [0.0, 1.0).  \n",
    "choice(a[, size, replace, p])\tGenerates a random sample from a given 1-D array  \n",
    "bytes(length)\tReturn random bytes.  "
   ]
  },
  {
   "cell_type": "code",
   "execution_count": 37,
   "metadata": {},
   "outputs": [
    {
     "name": "stdout",
     "output_type": "stream",
     "text": [
      "[[0.93566626 0.57968101 0.94233246 0.14273154 0.15864411]\n",
      " [0.87573354 0.37852983 0.35122704 0.54296751 0.65726031]]\n"
     ]
    }
   ],
   "source": [
    "d = np.random.random((10)).reshape(2,5) # or np.random.random((2,5))\n",
    "print(d)"
   ]
  },
  {
   "cell_type": "code",
   "execution_count": 39,
   "metadata": {},
   "outputs": [
    {
     "name": "stdout",
     "output_type": "stream",
     "text": [
      "4\n"
     ]
    }
   ],
   "source": [
    "d = np.random.randint(10)\n",
    "print(d)\n",
    "\n",
    "np.random.randint(2, size=10)\n",
    "\n",
    "np.random.randint(1, size=10)\n",
    "\n",
    "np.random.randint(5, size=(2, 4))"
   ]
  }
 ],
 "metadata": {
  "kernelspec": {
   "display_name": "Python 3",
   "language": "python",
   "name": "python3"
  },
  "language_info": {
   "codemirror_mode": {
    "name": "ipython",
    "version": 3
   },
   "file_extension": ".py",
   "mimetype": "text/x-python",
   "name": "python",
   "nbconvert_exporter": "python",
   "pygments_lexer": "ipython3",
   "version": "3.6.7"
  }
 },
 "nbformat": 4,
 "nbformat_minor": 2
}
